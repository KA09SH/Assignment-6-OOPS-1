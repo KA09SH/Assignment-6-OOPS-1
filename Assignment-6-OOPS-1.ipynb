{
 "cells": [
  {
   "cell_type": "code",
   "execution_count": 4,
   "id": "b22b5767",
   "metadata": {},
   "outputs": [],
   "source": [
    "#Q1. Explain Class and Object with respect to Object-Oriented Programming. Give a suitable example.\n",
    "\n",
    "#A. Classes are user-defined data types that act as the blueprint for individual objects, attributes and methods. \n",
    "#.  Objects are instances of a class created with specifically defined data. Objects can correspond to real-world objects or an abstract entity.\n",
    "#.  A Class is like an object constructor, or a \"blueprint\" for creating objects.\n",
    "\n",
    "# creating class Bike\n",
    "class Bike:\n",
    "    name = \"Yamaha-R15\"\n",
    "    gear = 5\n",
    "\n",
    "# creating object of class Bike\n",
    "bike1 = Bike()"
   ]
  },
  {
   "cell_type": "code",
   "execution_count": null,
   "id": "a9440015",
   "metadata": {},
   "outputs": [],
   "source": [
    "#Q2. Name the four pillars of OOPs\n",
    "\n",
    "#A. The Four Pillars of Object Oriented Programming\n",
    "\n",
    "#.  Abstraction\n",
    "#.  Encapsulation\n",
    "#.  Inheritance\n",
    "#.  Polymorphism\n"
   ]
  },
  {
   "cell_type": "code",
   "execution_count": 6,
   "id": "0b07292b",
   "metadata": {},
   "outputs": [
    {
     "name": "stdout",
     "output_type": "stream",
     "text": [
      "Shubham\n",
      "28\n"
     ]
    }
   ],
   "source": [
    "#Q3. Explain why the __init__() function is used. Give a suitable example.\n",
    "\n",
    "#A. __init__ is a special python method that runs whenever a new object is created. \n",
    "#.  These types of functions are used to initialize the attributes of that class.\n",
    "\n",
    "class Detail:\n",
    "    def __init__(self, name, age):\n",
    "        self.name = name\n",
    "        self.age = age\n",
    "\n",
    "D = Detail(\"Shubham\", 28)\n",
    "\n",
    "print(D.name)\n",
    "print(D.age)\n"
   ]
  },
  {
   "cell_type": "code",
   "execution_count": null,
   "id": "edb56712",
   "metadata": {},
   "outputs": [],
   "source": [
    "#Q4. Why self is used in OOPs?\n",
    "\n",
    "#A. \"self\" represents the instance of the class. By using the “self”  we can access the attributes and methods of the class in python. \n",
    "#.  It binds the attributes with the given arguments.\n",
    "#.  \"self\" must be provided as a first parameter to the instance method and constructor. If we don’t provide it, it will cause an error.\n",
    "#.  \"self\" is parameter in instance method and user can use another parameter name in place of it.\n"
   ]
  },
  {
   "cell_type": "code",
   "execution_count": null,
   "id": "d75df7a0",
   "metadata": {},
   "outputs": [],
   "source": [
    "#Q5. What is inheritance? Give an example for each type of inheritance.\n",
    "\n",
    "#A. Inheritence is a process of obtaining properties and characteristics(variables and methods) of another class. \n",
    "#.  In this hierarchical order, the class which inherits another class is called subclass or child class, and the other class is the parent class.\n",
    "\n",
    "#   There are four types of inheritances:\n",
    "#   Single Inheritance\n",
    "#   Multiple Inheritance\n",
    "#   Multilevel Inheritance\n",
    "#   Hierarchical Inheritance"
   ]
  },
  {
   "cell_type": "code",
   "execution_count": 7,
   "id": "1c6e0290",
   "metadata": {},
   "outputs": [
    {
     "name": "stdout",
     "output_type": "stream",
     "text": [
      "This function is defined inside the parent class.\n",
      "This function is defined inside the child class.\n"
     ]
    }
   ],
   "source": [
    "#   Single Inheritance\n",
    "\n",
    "class Parent1:  \n",
    "    def func_1(self):  \n",
    "        print (\"This function is defined inside the parent class.\")  \n",
    "\n",
    "# now, we will create the Derived class \n",
    "\n",
    "class Child1(Parent1):  \n",
    "    def func_2(self):  \n",
    "        print (\"This function is defined inside the child class.\")  \n",
    "        \n",
    "object = Child1()  \n",
    "object.func_1()  \n",
    "object.func_2() "
   ]
  },
  {
   "cell_type": "code",
   "execution_count": 13,
   "id": "49ac9b28",
   "metadata": {},
   "outputs": [
    {
     "name": "stdout",
     "output_type": "stream",
     "text": [
      "Father name is : Ram\n",
      "Mother name is : Sita\n"
     ]
    }
   ],
   "source": [
    "#   Multiple Inheritance\n",
    "\n",
    "class Mother:  \n",
    "    \n",
    "    def mother(self):  \n",
    "        print(self.mothername)  \n",
    "\n",
    "#creating the Base class 2  \n",
    "class Father:  \n",
    "    \n",
    "    def father(self):  \n",
    "        print(self.fathername)  \n",
    "\n",
    "#creating the Derived class  \n",
    "class Son(Mother, Father):  \n",
    "    def parents(self):  \n",
    "        print (\"Father name is :\", self.fathername)  \n",
    "        print (\"Mother name is :\", self.mothername)  \n",
    "        \n",
    "s1 = Son()  \n",
    "s1.fathername = \"Ram\"  \n",
    "s1.mothername = \"Sita\"  \n",
    "s1.parents()  "
   ]
  },
  {
   "cell_type": "code",
   "execution_count": 15,
   "id": "175f3594",
   "metadata": {},
   "outputs": [
    {
     "name": "stdout",
     "output_type": "stream",
     "text": [
      "Narayan\n",
      "Grandfather name is : Narayan\n",
      "Father name is : Shankar\n",
      "Son name is : Vijay\n"
     ]
    }
   ],
   "source": [
    "#   Multilevel Inheritance\n",
    "\n",
    "class Grandfather:  \n",
    "  \n",
    "    def __init__(self, grandfathername):  \n",
    "        self.grandfathername = grandfathername  \n",
    "        \n",
    "# creating the Intermediate class  \n",
    "class Father(Grandfather):  \n",
    "    def __init__(self, fathername, grandfathername):  \n",
    "        self.fathername = fathername \n",
    "  \n",
    "        # here, we will invoke the constructor of Grandfather class  \n",
    "        Grandfather.__init__(self, grandfathername)  \n",
    "  \n",
    "# here, we will create the Derived class  \n",
    "class Son(Father):  \n",
    "    def __init__(self,sonname, fathername, grandfathername):  \n",
    "        self.sonname = sonname \n",
    "  \n",
    "        # here, we will invoke the constructor of Father class  \n",
    "        Father.__init__(self, fathername, grandfathername)  \n",
    "  \n",
    "    def print_name(self):  \n",
    "        print('Grandfather name is :', self.grandfathername)  \n",
    "        print(\"Father name is :\", self.fathername)  \n",
    "        print(\"Son name is :\", self.sonname)  \n",
    "\n",
    "s = Son('Vijay', 'Shankar', 'Narayan')  \n",
    "print (s.grandfathername)  \n",
    "s.print_name()  "
   ]
  },
  {
   "cell_type": "code",
   "execution_count": 18,
   "id": "19e3b81b",
   "metadata": {},
   "outputs": [
    {
     "name": "stdout",
     "output_type": "stream",
     "text": [
      "This function is defined inside the Parent Class.\n",
      "This function is defined inside the Child 1.\n",
      "This function is defined inside the Parent Class.\n",
      "This function is defined inside the Child 2.\n"
     ]
    }
   ],
   "source": [
    "#   Hierarchical Inheritance\n",
    "\n",
    "# creating the Base class\n",
    "class Parent:  \n",
    "    def func_1(self):  \n",
    "        print (\"This function is defined inside the Parent Class.\")  \n",
    "\n",
    "# Derived class1  \n",
    "class Child_1(Parent):  \n",
    "    def func_2(self):  \n",
    "        print (\"This function is defined inside the Child 1.\")  \n",
    "\n",
    "# Derived class2  \n",
    "class Child_2(Parent):  \n",
    "    def func_3(self):  \n",
    "        print (\"This function is defined inside the Child 2.\")  \n",
    "\n",
    "object1 = Child_1()  \n",
    "object2 = Child_2()  \n",
    "object1.func_1()  \n",
    "object1.func_2()  \n",
    "object2.func_1()  \n",
    "object2.func_3()"
   ]
  }
 ],
 "metadata": {
  "kernelspec": {
   "display_name": "Python 3 (ipykernel)",
   "language": "python",
   "name": "python3"
  },
  "language_info": {
   "codemirror_mode": {
    "name": "ipython",
    "version": 3
   },
   "file_extension": ".py",
   "mimetype": "text/x-python",
   "name": "python",
   "nbconvert_exporter": "python",
   "pygments_lexer": "ipython3",
   "version": "3.10.9"
  }
 },
 "nbformat": 4,
 "nbformat_minor": 5
}
